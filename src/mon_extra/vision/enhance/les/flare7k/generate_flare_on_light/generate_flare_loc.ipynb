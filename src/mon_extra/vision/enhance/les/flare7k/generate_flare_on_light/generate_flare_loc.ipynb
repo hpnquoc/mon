{
 "cells": [
  {
   "cell_type": "code",
   "execution_count": 26,
   "metadata": {},
   "source": [
    "import torchvision.transforms as transforms\n",
    "from matplotlib import pyplot as plt\n",
    "from data_loader_loc import Flare_Image_Loader\n",
    "import torchvision.transforms.functional as TF\n",
    "\n",
    "class MyTranslationTransform(object):\n",
    "    def __init__(self, position):\n",
    "        self.position = position\n",
    "\n",
    "    def __call__(self, x):\n",
    "        return TF.affine(x,angle=0, scale=1,shear=[0,0], translate= list(self.position))\n",
    "\n",
    "transform_base=transforms.Compose([transforms.RandomCrop((512,512),pad_if_needed=True,padding_mode='reflect'),\n",
    "\t\t\t\t\t\t\t  transforms.RandomHorizontalFlip()\n",
    "                              ])\n",
    "\n",
    "flare_image_loader=Flare_Image_Loader('Nighttime_base',transform_base,transform_flare=None)\n",
    "flare_image_loader.load_scattering_flare('Flare7K','Flare7k/Scattering_Flare/Compound_Flare')\n",
    "flare_image_loader.load_reflective_flare('Flare7K','Flare7k/Reflective_Flare')\n",
    "img_index=5\n",
    "test_base_img,test_flare_img,test_merge_img,flare_mask=flare_image_loader[img_index]\n",
    "\n",
    "plt.imshow(test_flare_img.permute(1,2,0))\n",
    "plt.show()\n",
    "plt.imshow(test_merge_img.permute(1,2,0))\n",
    "plt.show()\n",
    "plt.imshow(test_base_img.permute(1,2,0))\n",
    "plt.show()"
   ],
   "outputs": []
  },
  {
   "cell_type": "code",
   "execution_count": 37,
   "metadata": {},
   "source": [
    "import torch\n",
    "for i in range(5):\n",
    "    test_base_img,test_flare_img,test_merge_img,flare_mask=flare_image_loader[i]\n",
    "    imgs_stack=torch.cat((test_base_img,test_merge_img),2)\n",
    "    print(imgs_stack.shape)\n",
    "    plt.imshow(imgs_stack.squeeze(0).permute(1,2,0))\n",
    "    plt.show()"
   ],
   "outputs": []
  }
 ],
 "metadata": {
  "kernelspec": {
   "display_name": "Python 3.8.5 ('base')",
   "language": "python",
   "name": "python3"
  },
  "language_info": {
   "codemirror_mode": {
    "name": "ipython",
    "version": 3
   },
   "file_extension": ".py",
   "mimetype": "text/x-python",
   "name": "python",
   "nbconvert_exporter": "python",
   "pygments_lexer": "ipython3",
   "version": "3.8.5"
  },
  "orig_nbformat": 4,
  "vscode": {
   "interpreter": {
    "hash": "20a9e06a1eee47c4abbed4ec8225ad91d78d9800d202b71b6b0a6e47016c6abd"
   }
  }
 },
 "nbformat": 4,
 "nbformat_minor": 2
}
