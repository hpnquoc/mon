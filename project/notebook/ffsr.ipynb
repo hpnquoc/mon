{
 "cells": [
  {
   "cell_type": "markdown",
   "metadata": {
    "id": "view-in-github",
    "colab_type": "text"
   },
   "source": [
    "<a href=\"https://colab.research.google.com/github/xeonqq/FourierFeatureSiren/blob/main/ffn_vs_siren_and_combined.ipynb\" target=\"_parent\"><img src=\"https://colab.research.google.com/assets/colab-badge.svg\" alt=\"Open In Colab\"/></a>"
   ]
  },
  {
   "cell_type": "markdown",
   "metadata": {
    "id": "DIs5uVKShhDR"
   },
   "source": [
    "# Fourier Feature Network (FFN) VS Siren, can we combine them?\n",
    "\n",
    "This is a colab to compare the performace of [Fourier Feature Network (FFN)](https://bmild.github.io/fourfeat/) and Siren MLP, proposed in work [Implicit Neural Activations with Periodic Activation Functions](https://vsitzmann.github.io/siren). In terms of accuracy in image fitting.\n",
    "\n",
    "In the end, a combined version of FFN and Siren (FFNSiren) is presented, which shows the best performace.\n",
    "\n",
    "\n",
    "* The Siren implementation is a copy-paste from the original implementation from the author\n",
    "\n",
    "* FFN implementation is a pytorch port from the original jax implemenation from the author. (But replacing the last sigmoid layer with tanh) "
   ]
  },
  {
   "cell_type": "code",
   "metadata": {
    "id": "y_vp4onHhhDT"
   },
   "source": [
    "from collections import OrderedDict\n",
    "\n",
    "import matplotlib\n",
    "import matplotlib.pyplot as plt\n",
    "import numpy as np\n",
    "import torch\n",
    "from torch import nn\n",
    "from torch.utils.data import DataLoader, Dataset\n",
    "from torchvision.transforms import Compose, Normalize, Resize, ToTensor\n",
    "\n",
    "import mon\n",
    "\n",
    "device = \"cuda\" if torch.cuda.is_available() else \"cpu\"\n",
    "\n",
    "\n",
    "def get_mgrid(sidelen, dim=2):\n",
    "    \"\"\"Generates a flattened grid of (x,y,...) coordinates in a range of -1 to 1.\n",
    "    sidelen: int\n",
    "    dim: int\n",
    "    \"\"\"\n",
    "    tensors = tuple(dim * [torch.linspace(-1, 1, steps=sidelen)])\n",
    "    mgrid   = torch.stack(torch.meshgrid(*tensors), dim=-1)\n",
    "    mgrid   = mgrid.reshape(-1, dim)\n",
    "    return mgrid"
   ],
   "outputs": [],
   "execution_count": null
  },
  {
   "cell_type": "code",
   "source": [
    "print(device)"
   ],
   "metadata": {
    "colab": {
     "base_uri": "https://localhost:8080/"
    },
    "id": "aKqEZYoiykc-",
    "outputId": "6984f0ee-121e-4b80-92ef-76b84e70dcca"
   },
   "outputs": [],
   "execution_count": null
  },
  {
   "cell_type": "code",
   "metadata": {
    "colab": {
     "base_uri": "https://localhost:8080/"
    },
    "id": "rJDAVh4iImtb",
    "outputId": "3536a235-42ff-4dbf-fce5-6f0f39ad54d4"
   },
   "source": [
    "torch.manual_seed(0)"
   ],
   "outputs": [],
   "execution_count": null
  },
  {
   "metadata": {},
   "cell_type": "code",
   "source": [
    "losses        = {}\n",
    "psnrs         = {}\n",
    "outputs       = {}\n",
    "total_steps   = 300  # Since the whole image is our dataset, this just means 500 gradient descent steps.\n",
    "summary_steps = 10\n",
    "image_file    = \"data/04_image_lr.png\"\n",
    "output_dir    = \"run/ffsr\"\n",
    "save_images   = True\n",
    "font_size     = 18\n",
    "line_width    = 2.0\n",
    "fig_size      = (5, 4.5)\n",
    "matplotlib.rc(\"font\", **{\n",
    "\t# \"family\" : \"normal\",\n",
    "\t\"size\"   : font_size\n",
    "})\n",
    "plt.rcParams[\"figure.figsize\"]    = [5, 4.5]\n",
    "plt.rcParams[\"figure.autolayout\"] = True\n",
    "\n",
    "mon.Path(output_dir).mkdir(parents=True, exist_ok=True)\n",
    "\n",
    "\n",
    "def get_image_tensor(sidelength):\n",
    "\t# img = Image.fromarray(skimage.data.camera())\n",
    "\timg       = Image.open(image_file).convert(\"L\")\n",
    "\ttransform = Compose([\n",
    "\t\tResize((sidelength, sidelength)),\n",
    "\t\tToTensor(),\n",
    "\t\tNormalize(torch.Tensor([0.5]), torch.Tensor([0.5]))\n",
    "\t])\n",
    "\treturn transform(img)\n",
    "\n",
    "\n",
    "img = get_image_tensor(256).numpy()\n",
    "np.min(img[0].reshape((-1)))\n",
    "print(img.shape)"
   ],
   "outputs": [],
   "execution_count": null
  },
  {
   "cell_type": "markdown",
   "metadata": {
    "id": "LWGRjL3LhhDU"
   },
   "source": [
    "Now, we code up the sine layer, which will be the basic building block of SIREN. This is a much more concise implementation than the one in the main code, as here, we aren't concerned with the baseline comparisons."
   ]
  },
  {
   "cell_type": "code",
   "metadata": {
    "id": "gm4DzWwAhhDU"
   },
   "source": [
    "class SineLayer(nn.Module):\n",
    "    # See paper sec. 3.2, final paragraph, and supplement Sec. 1.5 for discussion of omega_0.\n",
    "    \n",
    "    # If is_first=True, omega_0 is a frequency factor which simply multiplies the activations before the \n",
    "    # nonlinearity. Different signals may require different omega_0 in the first layer - this is a \n",
    "    # hyperparameter.\n",
    "    \n",
    "    # If is_first=False, then the weights will be divided by omega_0 so as to keep the magnitude of \n",
    "    # activations constant, but boost gradients to the weight matrix (see supplement Sec. 1.5)\n",
    "    \n",
    "    def __init__(self, in_features, out_features, bias=True, is_first=False, omega_0=30):\n",
    "        super().__init__()\n",
    "        self.omega_0     = omega_0\n",
    "        self.is_first    = is_first\n",
    "        self.in_features = in_features\n",
    "        self.linear      = nn.Linear(in_features, out_features, bias=bias)\n",
    "        self.init_weights()\n",
    "    \n",
    "    def init_weights(self):\n",
    "        with torch.no_grad():\n",
    "            if self.is_first:\n",
    "                self.linear.weight.uniform_(-1 / self.in_features, \n",
    "                                             1 / self.in_features)      \n",
    "            else:\n",
    "                self.linear.weight.uniform_(-np.sqrt(6 / self.in_features) / self.omega_0, \n",
    "                                             np.sqrt(6 / self.in_features) / self.omega_0)\n",
    "        \n",
    "    def forward(self, input):\n",
    "        return torch.sin(self.omega_0 * self.linear(input))\n",
    "    \n",
    "    def forward_with_intermediate(self, input): \n",
    "        # For visualization of activation distributions\n",
    "        intermediate = self.omega_0 * self.linear(input)\n",
    "        return torch.sin(intermediate), intermediate\n",
    "    \n",
    "    \n",
    "class Siren(nn.Module):\n",
    "\t\n",
    "    def __init__(\n",
    "\t    self, \n",
    "\t    in_features,\n",
    "\t    hidden_features,\n",
    "\t    hidden_layers,\n",
    "\t    out_features,\n",
    "\t    outermost_linear = False,\n",
    "\t    first_omega_0    = 30,\n",
    "\t    hidden_omega_0   = 1\n",
    "    ):\n",
    "        super().__init__()\n",
    "        \n",
    "        self.net = []\n",
    "        self.net.append(SineLayer(in_features, hidden_features, is_first=True, omega_0=first_omega_0))\n",
    "        for i in range(hidden_layers):\n",
    "            self.net.append(SineLayer(hidden_features, hidden_features, is_first=False, omega_0=hidden_omega_0))\n",
    "\n",
    "        if outermost_linear:\n",
    "            final_linear = nn.Linear(hidden_features, out_features)\n",
    "            with torch.no_grad():\n",
    "                final_linear.weight.uniform_(-np.sqrt(6 / hidden_features) / hidden_omega_0, \n",
    "                                              np.sqrt(6 / hidden_features) / hidden_omega_0)\n",
    "            self.net.append(final_linear)\n",
    "        else:\n",
    "            self.net.append(SineLayer(hidden_features, out_features, is_first=False, omega_0=hidden_omega_0))\n",
    "        self.net = nn.Sequential(*self.net)\n",
    "    \n",
    "    def forward(self, coords):\n",
    "        coords = coords.clone().detach().requires_grad_(True) # allows to take derivative w.r.t. input\n",
    "        output = self.net(coords)\n",
    "        return output, coords        \n",
    "\n",
    "    def forward_with_activations(self, coords, retain_grad=False):\n",
    "        \"\"\"Returns not only model output, but also intermediate activations.\n",
    "        Only used for visualizing activations later!\n",
    "        \"\"\"\n",
    "        activations      = OrderedDict()\n",
    "        activation_count = 0\n",
    "        x = coords.clone().detach().requires_grad_(True)\n",
    "        activations[\"input\"] = x\n",
    "        for i, layer in enumerate(self.net):\n",
    "            if isinstance(layer, SineLayer):\n",
    "                x, intermed = layer.forward_with_intermediate(x)\n",
    "                \n",
    "                if retain_grad:\n",
    "                    x.retain_grad()\n",
    "                    intermed.retain_grad()\n",
    "             \n",
    "                activations[\"_\".join((str(layer.__class__), \"%d\" % activation_count))] = intermed\n",
    "                activation_count += 1\n",
    "            else: \n",
    "                x = layer(x)\n",
    "                \n",
    "                if retain_grad:\n",
    "                    x.retain_grad()\n",
    "                    \n",
    "            activations[\"_\".join((str(layer.__class__), \"%d\" % activation_count))] = x\n",
    "            activation_count += 1\n",
    "\n",
    "        return activations"
   ],
   "outputs": [],
   "execution_count": null
  },
  {
   "cell_type": "markdown",
   "metadata": {
    "id": "Vi-tsBEthhDV"
   },
   "source": [
    "And finally, differential operators that allow us to leverage autograd to compute gradients, the laplacian, etc."
   ]
  },
  {
   "cell_type": "code",
   "metadata": {
    "id": "0S1_EdgjhhDV"
   },
   "source": [
    "def laplace(y, x):\n",
    "    grad = gradient(y, x)\n",
    "    return divergence(grad, x)\n",
    "\n",
    "\n",
    "def divergence(y, x):\n",
    "    div = 0.\n",
    "    for i in range(y.shape[-1]):\n",
    "        div += torch.autograd.grad(y[..., i], x, torch.ones_like(y[..., i]), create_graph=True)[0][..., i:i+1]\n",
    "    return div\n",
    "\n",
    "\n",
    "def gradient(y, x, grad_outputs=None):\n",
    "    if grad_outputs is None:\n",
    "        grad_outputs = torch.ones_like(y)\n",
    "    grad = torch.autograd.grad(y, [x], grad_outputs=grad_outputs, create_graph=True)[0]\n",
    "    return grad"
   ],
   "outputs": [],
   "execution_count": null
  },
  {
   "cell_type": "markdown",
   "metadata": {
    "id": "2JTWaQ85hhDW"
   },
   "source": [
    "<a id='section_1'></a>\n",
    "## Fitting an image\n",
    "\n",
    "First, let's simply fit that image!\n",
    "\n",
    "We seek to parameterize a greyscale image $f(x)$ with pixel coordinates $x$ with a SIREN $\\Phi(x)$.\n",
    "\n",
    "That is we seek the function $\\Phi$ such that:\n",
    "$\\mathcal{L}=\\int_{\\Omega} \\lVert \\Phi(\\mathbf{x}) - f(\\mathbf{x}) \\rVert\\mathrm{d}\\mathbf{x}$\n",
    " is minimized, in which $\\Omega$ is the domain of the image. \n",
    " \n",
    "We write a little datast that does nothing except calculating per-pixel coordinates:"
   ]
  },
  {
   "cell_type": "code",
   "metadata": {
    "id": "embSwJBzhhDW"
   },
   "source": [
    "class ImageFitting(Dataset):\n",
    "\t\n",
    "    def __init__(self, sidelength):\n",
    "        super().__init__()\n",
    "        img         = get_image_tensor(sidelength)\n",
    "        self.pixels = img.permute(1, 2, 0).reshape(-1, 1)\n",
    "        self.coords = get_mgrid(sidelength, 2)\n",
    "\n",
    "    def __len__(self):\n",
    "        return 1\n",
    "\n",
    "    def __getitem__(self, idx):    \n",
    "        if idx > 0: \n",
    "\t        raise IndexError\n",
    "        return self.coords, self.pixels"
   ],
   "outputs": [],
   "execution_count": null
  },
  {
   "cell_type": "code",
   "metadata": {
    "id": "tUWAJfaoHtT1"
   },
   "source": [
    "img    = get_image_tensor(256)\n",
    "pixels = img.permute(1, 2, 0).reshape(-1, 1)\n",
    "print(pixels.shape)"
   ],
   "outputs": [],
   "execution_count": null
  },
  {
   "cell_type": "code",
   "source": [
    "cameraman  = ImageFitting(256)\n",
    "dataloader = DataLoader(cameraman, batch_size=1, pin_memory=True, num_workers=0)"
   ],
   "metadata": {
    "colab": {
     "base_uri": "https://localhost:8080/"
    },
    "id": "wcdE6JSsv526",
    "outputId": "90a3da37-389c-470c-d9cd-54e347e2229f"
   },
   "outputs": [],
   "execution_count": null
  },
  {
   "cell_type": "markdown",
   "metadata": {
    "id": "WiR6VdUfhhDX"
   },
   "source": [
    "Let's instantiate the dataset and our Siren. As pixel coordinates are 2D, the siren has 2 input features, and since the image is grayscale, it has one output channel."
   ]
  },
  {
   "cell_type": "code",
   "metadata": {
    "colab": {
     "base_uri": "https://localhost:8080/"
    },
    "id": "10SkpxzRhhDX",
    "outputId": "1b2154bd-2167-4810-91e6-308506413e6a"
   },
   "source": [
    "siren_w1 = Siren(in_features=2, out_features=1, hidden_features=256, hidden_layers=4, outermost_linear=True, first_omega_0=30, hidden_omega_0=1)\n",
    "siren_w1.to(device)\n",
    "\n",
    "siren_w30 = Siren(in_features=2, out_features=1, hidden_features=256, hidden_layers=4, outermost_linear=True, first_omega_0=30, hidden_omega_0=30)\n",
    "siren_w30.to(device)"
   ],
   "outputs": [],
   "execution_count": null
  },
  {
   "cell_type": "code",
   "metadata": {
    "colab": {
     "base_uri": "https://localhost:8080/"
    },
    "id": "KPz5NIGjFmgr",
    "outputId": "183c4010-bc33-479a-edb6-deaecfa14ed5"
   },
   "source": "# print(sum(p.numel() for p in siren.parameters()) / 1e6, \"M parameters\")",
   "outputs": [],
   "execution_count": null
  },
  {
   "cell_type": "code",
   "metadata": {
    "colab": {
     "base_uri": "https://localhost:8080/"
    },
    "id": "IOE_z_cWFvqY",
    "outputId": "006ee023-9daf-4412-81b2-21f7bacd6dde"
   },
   "source": "print(f\"total pixels {256 * 256 / 1e6}\")",
   "outputs": [],
   "execution_count": null
  },
  {
   "metadata": {},
   "cell_type": "markdown",
   "source": "## Training Loop"
  },
  {
   "cell_type": "code",
   "metadata": {
    "id": "GlGBkhPRrpJD"
   },
   "source": [
    "def train(model, model_name, dataloader, total_steps, steps_til_summary, plot_gradient=False):\n",
    "  # plot_gradient consumes way more memory\n",
    "  optim = torch.optim.Adam(lr=1e-4, params=model.parameters())\n",
    "\n",
    "  model_input, ground_truth = next(iter(dataloader))\n",
    "  model_input, ground_truth = model_input.to(device), ground_truth.to(device)\n",
    "\n",
    "  losses       = []\n",
    "  images       = []\n",
    "  groundtruths = []\n",
    "  for step in range(total_steps):\n",
    "      model_output, coords = model(model_input)    \n",
    "      loss = ((model_output - ground_truth) ** 2).mean()\n",
    "      losses.append(loss.item())\n",
    "      if not step % steps_til_summary or (step==total_steps - 1):\n",
    "          print(\"Step %d, Total loss %0.6f\" % (step, loss))\n",
    "          image = model_output.cpu().view(256, 256).detach().numpy()\n",
    "          images.append(image)\n",
    "          groundtruths.append(ground_truth.cpu().view(256, 256).detach().numpy())\n",
    "          if plot_gradient:\n",
    "            img_grad      = gradient(model_output, coords)\n",
    "            img_laplacian = laplace(model_output, coords)\n",
    "            fig, axes     = plt.subplots(1, 3, figsize=(18, 6))\n",
    "            axes[0].imshow(image)\n",
    "            axes[1].imshow(img_grad.norm(dim=-1).cpu().view(256, 256).detach().numpy())\n",
    "            axes[2].imshow(img_laplacian.cpu().view(256, 256).detach().numpy())\n",
    "          # else:\n",
    "            # plt.imshow(image)\n",
    "          # plt.show()\n",
    "\n",
    "      optim.zero_grad()\n",
    "      loss.backward()\n",
    "      optim.step()\n",
    "  torch.cuda.empty_cache()\n",
    "\n",
    "  return losses, images, groundtruths"
   ],
   "outputs": [],
   "execution_count": null
  },
  {
   "cell_type": "markdown",
   "metadata": {
    "id": "6RNpsGG4bzfW"
   },
   "source": "## Fourier Feature"
  },
  {
   "cell_type": "code",
   "metadata": {
    "id": "Nh5KtxIcb4JY"
   },
   "source": [
    "def input_mapping(x, B):\n",
    "  if B is None:\n",
    "    return x\n",
    "  else:\n",
    "    x_proj    = (2. * np.pi * x) @ B.T\n",
    "    embedding = torch.cat([torch.sin(x_proj), torch.cos(x_proj)], axis=-1)\n",
    "    return embedding"
   ],
   "outputs": [],
   "execution_count": null
  },
  {
   "cell_type": "code",
   "metadata": {
    "id": "aX8T0SrKc52P",
    "colab": {
     "base_uri": "https://localhost:8080/"
    },
    "outputId": "f8c274c2-d1c5-4770-c537-b87218ff1622"
   },
   "source": [
    "class FFN(nn.Module):\n",
    "\t\n",
    "    def __init__(\n",
    "\t    self, \n",
    "\t    in_features,\n",
    "\t    out_features,\n",
    "\t    hidden_dim,\n",
    "\t    n_hidden_layers,\n",
    "\t    trainable_B     = False,\n",
    "\t    embedding_dim   = 256,\n",
    "\t    gaussian_scale  = 10\n",
    "    ):\n",
    "        super().__init__()\n",
    "        if trainable_B:\n",
    "          B = torch.randn((embedding_dim,in_features),requires_grad=True)*gaussian_scale\n",
    "          self.register_parameter(name=\"B\", param=torch.nn.Parameter(B))\n",
    "        else:\n",
    "          self.register_buffer(\"B\", torch.randn((embedding_dim,in_features))*gaussian_scale)\n",
    "       \n",
    "        layers = []\n",
    "        layers.append(nn.Linear(embedding_dim*2, hidden_dim))\n",
    "        layers.append(nn.ReLU())\n",
    "        for _ in range(n_hidden_layers):\n",
    "            layers.append(nn.Linear(hidden_dim, hidden_dim))\n",
    "            layers.append(nn.ReLU())\n",
    "        layers.append(nn.Linear(hidden_dim, out_features))\n",
    "        layers.append(nn.Tanh())\n",
    "\n",
    "        self.mlp = nn.Sequential(*layers)\n",
    "\n",
    "    def forward(self, coords): \n",
    "        coords    = coords.clone().detach().requires_grad_(True) # allows to take derivative w.r.t. input\n",
    "        embedding = input_mapping(coords, self.B)\n",
    "        x         = self.mlp(embedding)\n",
    "        return x, coords\n",
    "\n",
    "\n",
    "torch.cuda.empty_cache()\n",
    "\n",
    "ffn = FFN(2, 1, 256, 2, False)\n",
    "ffn.to(device)\n",
    "print(sum(p.numel() for p in ffn.parameters()) / 1e6, \"M parameters\")\n",
    "print( [p.shape for p in ffn.parameters()])"
   ],
   "outputs": [],
   "execution_count": null
  },
  {
   "cell_type": "code",
   "source": [
    "class FFSiren(nn.Module):\n",
    "\t\n",
    "    def __init__(\n",
    "\t    self, \n",
    "\t    in_features, \n",
    "\t    out_features, \n",
    "\t    hidden_dim, \n",
    "\t    n_hidden_layers, \n",
    "\t    embedding_dim  = 256, \n",
    "\t    gaussian_scale = 10,\n",
    "\t    first_omega_0  = 30,\n",
    "\t    hidden_omega_0 = 1\n",
    "    ):\n",
    "        super().__init__()\n",
    "        self.register_buffer(\"B\", torch.randn((embedding_dim, in_features)) * gaussian_scale)\n",
    "        self.siren = Siren(\n",
    "\t        in_features      = embedding_dim * 2,\n",
    "\t        out_features     = out_features,\n",
    "\t        hidden_features  = hidden_dim,\n",
    "\t        hidden_layers    = n_hidden_layers,\n",
    "\t        first_omega_0    = first_omega_0,\n",
    "\t        hidden_omega_0   = hidden_omega_0,\n",
    "\t        outermost_linear = True,\n",
    "        )\n",
    "    \n",
    "    def forward(self, coords): \n",
    "        embedding = input_mapping(coords, self.B)\n",
    "        return self.siren(embedding)\n",
    "\n",
    "\n",
    "ffsiren = FFSiren(2, 1, 256, 2, first_omega_0=30, hidden_omega_0=30)\n",
    "ffsiren.to(device)\n",
    "print(sum(p.numel() for p in ffsiren.parameters()) / 1e6, \"M parameters\")"
   ],
   "metadata": {
    "id": "fgeTEGxOru-2",
    "colab": {
     "base_uri": "https://localhost:8080/"
    },
    "outputId": "05d2707f-8cd5-437c-cd2e-4d24f6235a0e"
   },
   "outputs": [],
   "execution_count": null
  },
  {
   "metadata": {},
   "cell_type": "code",
   "source": [
    "class FINERLayer(nn.Module):\n",
    "\t\"\"\"FINER Layer.\n",
    "    \n",
    "    For the value of ``first_bias_scale``, see Fig. 5 in the paper.\n",
    "    \n",
    "    Args:\n",
    "        in_channels: The number of input channels.\n",
    "        out_channels: The number of output channels.\n",
    "        bias: Whether to use bias. Defaults: ``True``.\n",
    "        is_first: Whether this is the first layer. Defaults: ``False``.\n",
    "        omega_0: The frequency of the sine activation function. Defaults: ``30.0``.\n",
    "        first_bias_scale: The scale of the first bias. Defaults: ``20.0``.\n",
    "        scale_req_grad: Whether the scale requires gradient. Defaults: ``False``.\n",
    "    \n",
    "    References:\n",
    "        https://github.com/liuzhen0212/FINER/blob/main/models.py\n",
    "    \"\"\"\n",
    "\t\n",
    "\tdef __init__(self, in_features, out_features, bias=True, is_first=False, omega_0=30, first_bias_scale=None, scale_req_grad=False):\n",
    "\t\tsuper().__init__()\n",
    "\t\tself.omega_0     = omega_0\n",
    "\t\tself.is_first    = is_first\n",
    "\t\tself.in_features = in_features\n",
    "\t\tself.linear      = nn.Linear(in_features, out_features, bias=bias)\n",
    "\t\t\n",
    "\t\tself.init_weights()\n",
    "\t\tself.scale_req_grad   = scale_req_grad\n",
    "\t\tself.first_bias_scale = first_bias_scale\n",
    "\t\tif self.first_bias_scale is not None:\n",
    "\t\t\tself.init_first_bias()\n",
    "\t\n",
    "\tdef init_weights(self):\n",
    "\t\twith torch.no_grad():\n",
    "\t\t\tif self.is_first:\n",
    "\t\t\t\tself.linear.weight.uniform_(-1 / self.in_features,\n",
    "\t\t\t\t                             1 / self.in_features)\n",
    "\t\t\telse:\n",
    "\t\t\t\tself.linear.weight.uniform_(-np.sqrt(6 / self.in_features) / self.omega_0,\n",
    "\t\t\t\t                             np.sqrt(6 / self.in_features) / self.omega_0)\n",
    "\t\n",
    "\tdef init_first_bias(self):\n",
    "\t\twith torch.no_grad():\n",
    "\t\t\tif self.is_first:\n",
    "\t\t\t\tself.linear.bias.uniform_(-self.first_bias_scale, self.first_bias_scale)\n",
    "\t\n",
    "\tdef generate_scale(self, x: torch.Tensor) -> torch.Tensor:\n",
    "\t\tif self.scale_req_grad:\n",
    "\t\t\tscale = torch.abs(x) + 1\n",
    "\t\telse:\n",
    "\t\t\twith torch.no_grad():\n",
    "\t\t\t\tscale = torch.abs(x) + 1\n",
    "\t\treturn scale\n",
    "\t\n",
    "\tdef forward(self, x: torch.Tensor) -> torch.Tensor:\n",
    "\t\tx     = self.linear(x)\n",
    "\t\tscale = self.generate_scale(x)\n",
    "\t\tout   = torch.sin(self.omega_0 * scale * x)\n",
    "\t\treturn out\n",
    "\n",
    "\n",
    "class FINER(nn.Module):\n",
    "\t\"\"\"FINER network.\n",
    "    \n",
    "    References:\n",
    "        https://github.com/liuzhen0212/FINER/blob/main/models.py\n",
    "    \"\"\"\n",
    "\t\n",
    "\tdef __init__(\n",
    "\t\tself,\n",
    "\t\tin_features,\n",
    "\t\tout_features,\n",
    "\t\thidden_features,\n",
    "\t\thidden_layers,\n",
    "\t\toutermost_linear = False,\n",
    "\t\tfirst_omega_0    = 30,\n",
    "\t\thidden_omega_0   = 30,\n",
    "\t\tfirst_bias_scale = None,\n",
    "\t):\n",
    "\t\tsuper().__init__()\n",
    "\t\tnet = [FINERLayer(in_features, hidden_features, is_first=True, omega_0=first_omega_0, first_bias_scale=first_bias_scale)]\n",
    "\t\tfor i in range(hidden_layers):\n",
    "\t\t\tnet.append(FINERLayer(hidden_features, hidden_features, is_first=False, omega_0=hidden_omega_0))\n",
    "\t\t\n",
    "\t\tif outermost_linear:\n",
    "\t\t    final_linear = nn.Linear(hidden_features, out_features)\n",
    "\t\t    with torch.no_grad():\n",
    "\t\t\t    final_linear.weight.uniform_(-np.sqrt(6 / hidden_features) / hidden_omega_0, np.sqrt(6 / hidden_features) / hidden_omega_0) \n",
    "\t\t\t    net.append(final_linear) \n",
    "\t\telse:\n",
    "\t\t\tnet.append(FINERLayer(in_features, hidden_features, is_first=False, omega_0=hidden_omega_0))\n",
    "\t\tself.net = nn.Sequential(*net)\n",
    "\t\t\n",
    "\tdef forward(self, coords):\n",
    "\t\tcoords = coords.clone().detach().requires_grad_(True)\n",
    "\t\toutput = self.net(coords)\n",
    "\t\treturn output, coords\n",
    "\n",
    "\n",
    "torch.cuda.empty_cache()\n",
    "\n",
    "finer = FINER(in_features=2, out_features=1, hidden_features=256, hidden_layers=4, outermost_linear=True, first_bias_scale=None)\n",
    "finer.to(device)\n",
    "print(sum(p.numel() for p in finer.parameters()) / 1e6, \"M parameters\")\n",
    "\n",
    "finer_b20 = FINER(in_features=2, out_features=1, hidden_features=256, hidden_layers=4, outermost_linear=True, first_bias_scale=20)\n",
    "finer_b20.to(device)\n",
    "print(sum(p.numel() for p in finer_b20.parameters()) / 1e6, \"M parameters\")"
   ],
   "outputs": [],
   "execution_count": null
  },
  {
   "metadata": {},
   "cell_type": "code",
   "source": [
    "class FFFINER(nn.Module):\n",
    "\t\n",
    "\tdef __init__(\n",
    "\t\tself,\n",
    "\t\tin_features,\n",
    "\t\tout_features,\n",
    "\t\thidden_dim, \n",
    "\t\tn_hidden_layers,\n",
    "\t\tfirst_omega_0    = 30,\n",
    "\t\thidden_omega_0   = 30,\n",
    "\t\tfirst_bias_scale = 20,\n",
    "\t\tembedding_dim    = 256,\n",
    "\t\tgaussian_scale   = 10,\n",
    "\t):\n",
    "\t\tsuper().__init__()\n",
    "\t\tself.register_buffer(\"B\", torch.randn((embedding_dim, in_features)) * gaussian_scale)\n",
    "\t\tself.siren = FINER(\n",
    "\t\t\tin_features      = embedding_dim * 2,\n",
    "\t\t\tout_features     = out_features,\n",
    "\t\t\thidden_features  = hidden_dim,\n",
    "\t\t\thidden_layers    = n_hidden_layers,\n",
    "\t\t\tfirst_omega_0    = first_omega_0,\n",
    "\t\t\thidden_omega_0   = hidden_omega_0,\n",
    "\t\t\tfirst_bias_scale = first_bias_scale,\n",
    "\t\t\toutermost_linear = True\n",
    "\t\t)\n",
    "\t\n",
    "\tdef forward(self, coords):\n",
    "\t\tembedding = input_mapping(coords, self.B)\n",
    "\t\treturn self.siren(embedding)\n",
    "\n",
    "\n",
    "fffiner = FFFINER(2, 1, 256, 2, first_omega_0=30, hidden_omega_0=30, first_bias_scale=None, gaussian_scale=10)\n",
    "fffiner.to(device)\n",
    "print(sum(p.numel() for p in ffsiren.parameters()) / 1e6, \"M parameters\")"
   ],
   "outputs": [],
   "execution_count": null
  },
  {
   "metadata": {},
   "cell_type": "markdown",
   "source": "## Begin Training"
  },
  {
   "cell_type": "code",
   "source": [
    "loss, output, groundtruths = train(ffn, \"FFN\", dataloader, total_steps, summary_steps)\n",
    "outputs[\"Groundtruth\"] = groundtruths\n",
    "outputs[\"FFN\"]         = output\n",
    "losses[\"FFN\"]          = loss"
   ],
   "metadata": {
    "colab": {
     "base_uri": "https://localhost:8080/",
     "height": 1000
    },
    "id": "2jmYjm7iExT7",
    "outputId": "434c024b-a695-4b37-8130-1367667901d5"
   },
   "outputs": [],
   "execution_count": null
  },
  {
   "cell_type": "code",
   "source": "# losses[\"SIREN\"], outputs[\"SIREN\"] = train(siren_w1, \"SIREN\", dataloader, total_steps, steps_til_summary)",
   "metadata": {
    "colab": {
     "base_uri": "https://localhost:8080/",
     "height": 1000
    },
    "id": "-uWLMH27E4tA",
    "outputId": "d895a7df-1511-4202-98ab-6581258ac6f9"
   },
   "outputs": [],
   "execution_count": null
  },
  {
   "metadata": {},
   "cell_type": "code",
   "source": "losses[\"SIREN\"], outputs[\"SIREN\"], groundtruths = train(siren_w30, \"SIREN w0=30\", dataloader, total_steps, summary_steps)",
   "outputs": [],
   "execution_count": null
  },
  {
   "metadata": {},
   "cell_type": "code",
   "source": "# losses[\"FINER\"], outputs[\"FINER\"], groundtruths = train(finer, \"FINER\", dataloader, total_steps, steps_til_summary)",
   "outputs": [],
   "execution_count": null
  },
  {
   "metadata": {},
   "cell_type": "code",
   "source": "# losses[\"FINER\"], outputs[\"FINER\"], groundtruths = train(finer_b20, \"FINER b=20\", dataloader, total_steps, steps_til_summary)",
   "outputs": [],
   "execution_count": null
  },
  {
   "metadata": {},
   "cell_type": "code",
   "source": "losses[\"FFSR\"], outputs[\"FFSR\"], groundtruths = train(ffsiren, \"FFSR\", dataloader, total_steps, summary_steps)",
   "outputs": [],
   "execution_count": null
  },
  {
   "metadata": {},
   "cell_type": "code",
   "source": "# losses[\"FFSR\"], outputs[\"FFSR\"], groundtruths = train(fffiner, \"FFSR\", dataloader, total_steps, steps_til_summary)",
   "outputs": [],
   "execution_count": null
  },
  {
   "cell_type": "code",
   "source": [
    "from scipy.ndimage import gaussian_filter1d\n",
    "\n",
    "\n",
    "def loss_to_psnr(loss, max=2):\n",
    "  # return 10 * np.log10(max ** 2 / np.asarray(loss))\n",
    "  return -10 * np.log10(2.0 * np.asarray(loss))"
   ],
   "metadata": {
    "id": "TjA0zfAYKMcv"
   },
   "outputs": [],
   "execution_count": null
  },
  {
   "cell_type": "code",
   "metadata": {
    "id": "OrtHVA0pnpZP",
    "colab": {
     "base_uri": "https://localhost:8080/",
     "height": 544
    },
    "outputId": "255ec1e1-cb0f-457f-807b-31348d14be2b"
   },
   "source": [
    "print(\"Final Loss:\")\n",
    "\n",
    "#plt.figure(figsize=fig_size)\n",
    "plt.subplots(figsize=fig_size)\n",
    "for n in losses:\n",
    "\tplt.plot(losses[n], label=n, linewidth=line_width)\n",
    "\tplt.legend(prop={\"size\": font_size})\n",
    "\tprint(f\"{n}: {losses[n][-1]}\")\n",
    "plt.xlabel(\"Steps\")\n",
    "plt.ylabel(\"Loss\")\n",
    "# plt.ylim(0.0, 1.0)\n",
    "plt.ticklabel_format(axis=\"y\", style=\"sci\", scilimits=(0, 0))\n",
    "plt.legend(bbox_to_anchor=(1, 1), loc=1, borderaxespad=0)\n",
    "plt.savefig(f\"{output_dir}/loss_{total_steps}.jpg\", dpi=100, bbox_inches=\"tight\")\n",
    "\n",
    "plt.clf()\n",
    "#plt.figure(figsize=fig_size)\n",
    "plt.subplots(figsize=fig_size)\n",
    "for n in losses:\n",
    "  plt.plot(losses[n], label=n, linewidth=line_width)\n",
    "  plt.legend(prop={\"size\": font_size})\n",
    "  print(f\"{n}: {losses[n][-1]}\")\n",
    "plt.xlabel(\"Steps\")\n",
    "plt.ylabel(\"Loss\")\n",
    "plt.ylim(0.0, 0.013)\n",
    "#plt.ylim(0.0, 0.5)\n",
    "plt.ticklabel_format(axis=\"y\", style=\"sci\", scilimits=(0, 0))\n",
    "plt.legend(bbox_to_anchor=(1, 1), loc=1, borderaxespad=0)\n",
    "plt.savefig(f\"{output_dir}/loss_{total_steps}_small.jpg\", dpi=100, bbox_inches=\"tight\")"
   ],
   "outputs": [],
   "execution_count": null
  },
  {
   "cell_type": "code",
   "source": [
    "print(\"Final PSNR:\")\n",
    "\n",
    "#plt.figure(figsize=fig_size)\n",
    "plt.subplots(figsize=fig_size)\n",
    "for n in losses:\n",
    "  plt.plot(despike(loss_to_psnr(losses[n])), label=n, linewidth=line_width)\n",
    "  plt.legend(prop={\"size\": font_size})\n",
    "  psnrs[n] = loss_to_psnr(losses[n][-1])\n",
    "  print(f\"PSNR {n}: {loss_to_psnr(losses[n][-1])}\")\n",
    "plt.xlabel(\"Steps\")\n",
    "plt.ylabel(\"PSNR\")\n",
    "plt.ticklabel_format(axis=\"y\", style=\"sci\", scilimits=(0, 0))\n",
    "# plt.legend(bbox_to_anchor=(1, 1), loc=1, borderaxespad=0)\n",
    "plt.savefig(f\"{output_dir}/psnr_{total_steps}.jpg\", dpi=100, bbox_inches=\"tight\")"
   ],
   "metadata": {
    "colab": {
     "base_uri": "https://localhost:8080/",
     "height": 525
    },
    "id": "w4MzMA6jHTCD",
    "outputId": "b48f5c41-0333-49fc-d8cf-971b614159cd"
   },
   "outputs": [],
   "execution_count": null
  },
  {
   "cell_type": "code",
   "metadata": {
    "id": "LCX65U3mopmJ",
    "colab": {
     "base_uri": "https://localhost:8080/"
    },
    "outputId": "4eedeec8-2689-4041-c95f-bef2c6e87ec5"
   },
   "source": [
    "!pip install imageio-ffmpeg\n",
    "import os, imageio"
   ],
   "outputs": [],
   "execution_count": null
  },
  {
   "cell_type": "code",
   "metadata": {
    "id": "as6B2uhcrT2B"
   },
   "source": [
    "# Save out video\n",
    "if save_images:\n",
    "    all_preds = np.concatenate([outputs[n] for n in outputs], axis=-1)\n",
    "    data8     = (255 * (np.clip(all_preds, -1, 1) + 1) / 2).astype(np.uint8)\n",
    "    f         = os.path.join(f\"{output_dir}/training_convergence_{total_steps}.mp4\")\n",
    "    imageio.mimwrite(f, data8, fps=20)\n",
    "    N = len(outputs)\n",
    "    # Display video inline\n",
    "    from IPython.display import HTML\n",
    "    from base64 import b64encode\n",
    "\n",
    "    mp4      = open(f, \"rb\").read()\n",
    "    data_url = \"data:video/mp4;base64,\" + b64encode(mp4).decode()"
   ],
   "outputs": [],
   "execution_count": null
  },
  {
   "cell_type": "code",
   "metadata": {
    "id": "Njl-wIiKtrUi",
    "colab": {
     "base_uri": "https://localhost:8080/",
     "height": 371
    },
    "outputId": "af67edc4-a2c6-4c7d-ea08-34a209ef0845"
   },
   "source": [
    "HTML(f'''\n",
    "<video width=1000 controls autoplay loop>\n",
    "      <source src=\"{data_url}\" type=\"video/mp4\">\n",
    "</video>\n",
    "<table width=\"1000\" cellspacing=\"0\" cellpadding=\"0\">\n",
    "  <tr>{''.join(N*[f'<td width=\"{1000//len(outputs)}\"></td>'])}</tr>\n",
    "  <tr>{''.join(N*['<td style=\"text-align:center\">{}</td>'])}</tr>\n",
    "</table>\n",
    "'''.format(*list(outputs.keys())))"
   ],
   "outputs": [],
   "execution_count": null
  },
  {
   "cell_type": "code",
   "metadata": {
    "id": "M-RjbAfJvCTd",
    "colab": {
     "base_uri": "https://localhost:8080/",
     "height": 470
    },
    "outputId": "69336a74-a484-46a6-fce0-6f74ca17533e"
   },
   "source": [
    "gt_img = np.around((get_image_tensor(256) / 2 + 0.5)[0].numpy() * 255).astype(np.uint8)\n",
    "plt.imshow(gt_img, cmap=\"gray\")\n",
    "plt.title(\"groundtruth\")"
   ],
   "outputs": [],
   "execution_count": null
  },
  {
   "cell_type": "code",
   "source": [
    "print(data_url)"
   ],
   "metadata": {
    "colab": {
     "base_uri": "https://localhost:8080/"
    },
    "id": "ER1cDi3KJnHI",
    "outputId": "d74fcd96-c59b-4e1a-ffbd-68c3259af45f"
   },
   "outputs": [],
   "execution_count": null
  },
  {
   "cell_type": "code",
   "source": "plt.imshow(data8[-1], cmap=\"gray\")",
   "metadata": {
    "id": "vShL7Bo3JpWl",
    "outputId": "72e950f8-c615-4cd0-d531-60fbeb915524",
    "colab": {
     "base_uri": "https://localhost:8080/",
     "height": 249
    }
   },
   "outputs": [],
   "execution_count": null
  },
  {
   "metadata": {
    "id": "F7B0TqdbRmCf"
   },
   "cell_type": "code",
   "source": [
    "def mse(image1, image2):\n",
    "  image_array1 = np.array(image1)\n",
    "  image_array2 = np.array(image2)\n",
    "  # Calculate the squared difference\n",
    "  squared_difference = (image_array1 - image_array2) ** 2\n",
    "  # Calculate the mean squared difference\n",
    "  return np.mean(squared_difference)"
   ],
   "outputs": [],
   "execution_count": null
  },
  {
   "metadata": {
    "id": "IE3YhVKsIZgc",
    "outputId": "f9915bcf-6cb6-47b7-9687-41a21863e6c3",
    "colab": {
     "base_uri": "https://localhost:8080/",
     "height": 278
    }
   },
   "cell_type": "code",
   "source": [
    "from PIL import Image, ImageFilter\n",
    "import cv2\n",
    "\n",
    "\n",
    "def draw_figure(image, text, save_path, cmap=\"gray\"):\n",
    "    font = {\n",
    "        # 'family': 'serif',\n",
    "        \"color\" : \"white\",\n",
    "        \"weight\": \"bold\",\n",
    "        \"size\"  : 28,\n",
    "    }\n",
    "    fig, axs       = plt.subplots(1, 1)\n",
    "    dpi            = 100\n",
    "    left, width    = 0, 1\n",
    "    bottom, height = 0, 1\n",
    "    right          = left   + width\n",
    "    center_x       = left   + width / 2\n",
    "    center_y       = bottom + height / 2\n",
    "    top            = bottom + height\n",
    "    p              = plt.Rectangle((left, bottom), width, height, linewidth=0, fill=False, facecolor='none', edgecolor=None)\n",
    "    p.set_transform(axs.transAxes)\n",
    "    p.set_clip_on(True)\n",
    "\n",
    "    axs.add_patch(p)\n",
    "    axs.imshow(image, cmap=cmap)\n",
    "    axs.title.set_text(\"\")\n",
    "    axs.text(right - 0.01, bottom + 0.01, text,\n",
    "             horizontalalignment = \"right\",\n",
    "             verticalalignment   = \"bottom\",\n",
    "             transform           = axs.transAxes,\n",
    "             fontdict            = font)\n",
    "    axs.set_xticks([])\n",
    "    axs.set_yticks([])\n",
    "    axs.set_axis_off()\n",
    "    plt.show()\n",
    "    fig.savefig(save_path, dpi=dpi, bbox_inches=\"tight\", pad_inches=0)\n",
    "\n",
    "\n",
    "if save_images:\n",
    "    gt_pil      = Image.fromarray(gt_img)\n",
    "    gradient_gt = gt_pil.filter(ImageFilter.FIND_EDGES)\n",
    "\n",
    "    # Debugging Purpose\n",
    "    '''\n",
    "    gray       = cv2.imread(\"data/51_ref_dav2_vitl_c.jpg\", cv2.IMREAD_GRAYSCALE)\n",
    "    ksize       = 3\n",
    "    gX          = cv2.Sobel(gray, ddepth=cv2.CV_32F, dx=1, dy=0, ksize=ksize)\n",
    "    gY          = cv2.Sobel(gray, ddepth=cv2.CV_32F, dx=0, dy=1, ksize=ksize)\n",
    "    gX          = cv2.convertScaleAbs(gX)\n",
    "    gY          = cv2.convertScaleAbs(gY)\n",
    "    combined    = cv2.addWeighted(gX, 0.5, gY, 0.5, 0)\n",
    "    gt_pil      = Image.fromarray(combined)\n",
    "    gradient_gt = gt_pil.filter(ImageFilter.FIND_EDGES)\n",
    "    '''\n",
    "\n",
    "    gt_pil.save(f\"{output_dir}/groundtruth.jpg\")\n",
    "    draw_figure(gt_img, \"\", f\"{output_dir}/groundtruth_color.jpg\", cmap=\"viridis\")\n",
    "    draw_figure(gt_img, \"\", f\"{output_dir}/groundtruth_gray.jpg\")\n",
    "    gradient_gt.save(f\"{output_dir}/groundtruth_gradient.jpg\")\n",
    "    draw_figure(gradient_gt, \"\", f\"{output_dir}/groundtruth_gradient_color.jpg\", cmap=\"viridis\")\n",
    "    draw_figure(gradient_gt, \"\", f\"{output_dir}/groundtruth_gradient_gray.jpg\")\n",
    "\n",
    "    print(\"gradient mean squared error:\")\n",
    "    for i, n in enumerate(outputs):\n",
    "      arr      = outputs[n][-1]\n",
    "      data8    = (255 * (np.clip(arr, -1, 1) +1 ) / 2).astype(np.uint8)\n",
    "      img      = Image.fromarray(data8)\n",
    "      gradient = img.filter(ImageFilter.FIND_EDGES)\n",
    "      print(f\"{n}: {mse(gradient_gt, gradient)}\")\n",
    "\n",
    "      n_              = n.lower()\n",
    "      img_            = f\"{n_}_{total_steps}.jpg\"\n",
    "      img_gray_       = f\"{n_}_gray_{total_steps}.jpg\"\n",
    "      img_color_      = f\"{n_}_color_{total_steps}.jpg\"\n",
    "      gradient_       = f\"{n_}_gradient_{total_steps}.jpg\"\n",
    "      gradient_gray_  = f\"{n_}_gradient_gray_{total_steps}.jpg\"\n",
    "      gradient_color_ = f\"{n_}_gradient_color_{total_steps}.jpg\"\n",
    "\n",
    "      img.save(f\"{output_dir}/{img_}\")\n",
    "      gradient.save(f\"{output_dir}/{gradient_}\")\n",
    "\n",
    "      draw_figure(img, f\"PSNR: {psnrs[n]:.2f}\", f\"{output_dir}/{img_gray_}\")\n",
    "      draw_figure(img, f\"PSNR: {psnrs[n]:.2f}\", f\"{output_dir}/{img_color_}\", cmap=\"viridis\")\n",
    "      draw_figure(gradient, f\"PSNR: {psnrs[n]:.2f}\", f\"{output_dir}/{gradient_gray_}\")\n",
    "      draw_figure(gradient, f\"PSNR: {psnrs[n]:.2f}\", f\"{output_dir}/{gradient_color_}\", cmap=\"viridis\")"
   ],
   "outputs": [],
   "execution_count": null
  },
  {
   "metadata": {},
   "cell_type": "code",
   "source": "",
   "outputs": [],
   "execution_count": null
  }
 ],
 "metadata": {
  "accelerator": "GPU",
  "colab": {
   "provenance": [],
   "gpuType": "T4",
   "include_colab_link": true
  },
  "kernelspec": {
   "display_name": "Python 3 (ipykernel)",
   "name": "python3",
   "language": "python"
  },
  "language_info": {
   "codemirror_mode": {
    "name": "ipython",
    "version": 3
   },
   "file_extension": ".py",
   "mimetype": "text/x-python",
   "name": "python",
   "nbconvert_exporter": "python",
   "pygments_lexer": "ipython3",
   "version": "3.7.4"
  },
  "pycharm": {
   "stem_cell": {
    "cell_type": "raw",
    "metadata": {
     "collapsed": false
    },
    "source": []
   }
  }
 },
 "nbformat": 4,
 "nbformat_minor": 0
}
